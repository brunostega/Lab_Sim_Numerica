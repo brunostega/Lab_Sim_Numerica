{
 "cells": [
  {
   "cell_type": "markdown",
   "metadata": {},
   "source": [
    "# Esercizio 10: Simulated Annealing\n",
    "\n",
    "Il simulated annealing è un algoritmo di ottimizzazione che sfrutta l'analogia del problema in considerazione con un sistema termodinamico che viene raffreddato lentamente. \n",
    "Alla base c'è l'interpretazione della funzione di costo $L(\\{x\\})$, dove $\\{x\\}$ è la nostra configurazione, con l'energia di un sistema meccanico statistico con distribuzione di probabilità di Boltzmann\n",
    "$$\n",
    "p(\\{x\\})=\\frac{e^{-\\beta L(\\{x\\})}}{Z}\n",
    "$$\n",
    "\n",
    "L'idea è quella di eseguire $n$ passi per ogni $beta=\\frac{1}{T}$, partendo da temperature alte (bassi valori di $beta$) fino ad arrivare a temperatura nulla, o quasi (alti valori di beta), cambiando poco alla volta la temperatura e facendo un numero di passi sufficiente a far si che il sistema raggiunga l'equilibrio termodinamico, di modo che esso raggiunga la configurazione di minima energia.\n",
    "\n",
    "Ad ogni passo viene proposta una nuova configurazione $\\{x'\\}$ che viene accettata con probabilità\n",
    "\n",
    "$$\n",
    "p= \\begin{cases}  e^{-\\beta( L(\\{x'\\})-L(\\{x\\})}& \\mbox{if }  L(\\{x'\\})> L(\\{x\\}) \\\\ 1& \\mbox{altrimenti}\n",
    "\\end{cases}\n",
    "$$\n",
    "\n",
    "\n",
    "Per testare l'algoritmo propongo 4 diversi andamenti di $\\beta=f(n^{\\beta}_{passi})$:\n",
    "- lineare (spezzata)\n",
    "- quadratico\n",
    "- cubico\n",
    "- esponenziale"
   ]
  },
  {
   "cell_type": "code",
   "execution_count": 1,
   "metadata": {},
   "outputs": [
    {
     "ename": "FileNotFoundError",
     "evalue": "[Errno 2] No such file or directory: 'output.L_circleA.dat'",
     "output_type": "error",
     "traceback": [
      "\u001b[0;31m---------------------------------------------------------------------------\u001b[0m",
      "\u001b[0;31mFileNotFoundError\u001b[0m                         Traceback (most recent call last)",
      "\u001b[0;32m<ipython-input-1-16e2e662850b>\u001b[0m in \u001b[0;36m<module>\u001b[0;34m\u001b[0m\n\u001b[0;32m----> 1\u001b[0;31m \u001b[0mfile\u001b[0m\u001b[0;34m=\u001b[0m\u001b[0mopen\u001b[0m\u001b[0;34m(\u001b[0m\u001b[0;34m'output.L_circleA.dat'\u001b[0m\u001b[0;34m)\u001b[0m\u001b[0;34m\u001b[0m\u001b[0;34m\u001b[0m\u001b[0m\n\u001b[0m\u001b[1;32m      2\u001b[0m \u001b[0mbeta_A\u001b[0m\u001b[0;34m,\u001b[0m \u001b[0mstep_A\u001b[0m\u001b[0;34m,\u001b[0m \u001b[0mL_A\u001b[0m\u001b[0;34m=\u001b[0m\u001b[0mnp\u001b[0m\u001b[0;34m.\u001b[0m\u001b[0mloadtxt\u001b[0m\u001b[0;34m(\u001b[0m\u001b[0mfile\u001b[0m\u001b[0;34m,\u001b[0m \u001b[0mdelimiter\u001b[0m\u001b[0;34m=\u001b[0m\u001b[0;34m\",\"\u001b[0m\u001b[0;34m,\u001b[0m \u001b[0musecols\u001b[0m\u001b[0;34m=\u001b[0m\u001b[0;34m[\u001b[0m\u001b[0;36m0\u001b[0m\u001b[0;34m,\u001b[0m\u001b[0;36m1\u001b[0m\u001b[0;34m,\u001b[0m \u001b[0;36m2\u001b[0m\u001b[0;34m]\u001b[0m\u001b[0;34m,\u001b[0m \u001b[0munpack\u001b[0m\u001b[0;34m=\u001b[0m\u001b[0;32mTrue\u001b[0m\u001b[0;34m)\u001b[0m\u001b[0;34m\u001b[0m\u001b[0;34m\u001b[0m\u001b[0m\n\u001b[1;32m      3\u001b[0m \u001b[0mfile\u001b[0m\u001b[0;34m=\u001b[0m\u001b[0mopen\u001b[0m\u001b[0;34m(\u001b[0m\u001b[0;34m'output.L_circleB.dat'\u001b[0m\u001b[0;34m)\u001b[0m\u001b[0;34m\u001b[0m\u001b[0;34m\u001b[0m\u001b[0m\n\u001b[1;32m      4\u001b[0m \u001b[0mbeta_B\u001b[0m\u001b[0;34m,\u001b[0m \u001b[0mstep_B\u001b[0m\u001b[0;34m,\u001b[0m \u001b[0mL_B\u001b[0m\u001b[0;34m=\u001b[0m\u001b[0mnp\u001b[0m\u001b[0;34m.\u001b[0m\u001b[0mloadtxt\u001b[0m\u001b[0;34m(\u001b[0m\u001b[0mfile\u001b[0m\u001b[0;34m,\u001b[0m \u001b[0mdelimiter\u001b[0m\u001b[0;34m=\u001b[0m\u001b[0;34m\",\"\u001b[0m\u001b[0;34m,\u001b[0m \u001b[0musecols\u001b[0m\u001b[0;34m=\u001b[0m\u001b[0;34m[\u001b[0m\u001b[0;36m0\u001b[0m\u001b[0;34m,\u001b[0m\u001b[0;36m1\u001b[0m\u001b[0;34m,\u001b[0m \u001b[0;36m2\u001b[0m\u001b[0;34m]\u001b[0m\u001b[0;34m,\u001b[0m \u001b[0munpack\u001b[0m\u001b[0;34m=\u001b[0m\u001b[0;32mTrue\u001b[0m\u001b[0;34m)\u001b[0m\u001b[0;34m\u001b[0m\u001b[0;34m\u001b[0m\u001b[0m\n\u001b[1;32m      5\u001b[0m \u001b[0mfile\u001b[0m\u001b[0;34m=\u001b[0m\u001b[0mopen\u001b[0m\u001b[0;34m(\u001b[0m\u001b[0;34m'output.L_circleC.dat'\u001b[0m\u001b[0;34m)\u001b[0m\u001b[0;34m\u001b[0m\u001b[0;34m\u001b[0m\u001b[0m\n",
      "\u001b[0;31mFileNotFoundError\u001b[0m: [Errno 2] No such file or directory: 'output.L_circleA.dat'"
     ]
    }
   ],
   "source": [
    "file=open('output.L_circleA.dat')\n",
    "beta_A, step_A, L_A=np.loadtxt(file, delimiter=\",\", usecols=[0,1, 2], unpack=True)\n",
    "file=open('output.L_circleB.dat')\n",
    "beta_B, step_B, L_B=np.loadtxt(file, delimiter=\",\", usecols=[0,1, 2], unpack=True)\n",
    "file=open('output.L_circleC.dat')\n",
    "beta_C, step_C, L_C=np.loadtxt(file, delimiter=\",\", usecols=[0,1, 2], unpack=True)\n",
    "file=open('output.L_circleD.dat')\n",
    "beta_D, step_D, L_D=np.loadtxt(file, delimiter=\",\", usecols=[0,1, 2], unpack=True)\n",
    "\n",
    "\n",
    "steps=[step_A,step_B,step_C,step_D]\n",
    "betas=[beta_A,beta_B,beta_C,beta_D]\n",
    "titles=['lineare', 'quadratico', 'cubico', 'esponenziale']\n",
    "\n",
    "fig, axes=plt.subplots(2, 2, figsize=(15,18))\n",
    "plt.suptitle(r\"Andamenti di $\\beta$\", fontsize=20, fontweight='bold')\n",
    "k=0\n",
    "for i in range(2):\n",
    "    for j in range(2):\n",
    "        ax=axes[i][j]\n",
    "        k\n",
    "        ax.plot(steps[k],betas[k], '.--')\n",
    "        ax.set_title(titles[k], fontsize=18, fontweight='bold')\n",
    "        ax.set_ylabel(r\"$\\beta$\",fontsize=15)\n",
    "        ax.set_xlabel(r\" #step\",fontsize=15)\n",
    "        ax.grid(True)\n",
    "        k+=1\n",
    "    \n",
    "\n",
    "\n",
    "#ax[2].plot(step_B,beta_B, '.--', label=\"quadratic\")\n",
    "#ax[2].plot(step_C,beta_C, '.--', label=\"cubic\")\n",
    "#ax[2].plot(step_D,beta_D, '.--', label=\"exponential\")"
   ]
  },
  {
   "cell_type": "markdown",
   "metadata": {},
   "source": [
    "I coefficienti numerici per i vari andamenti sono stati scelti in modo da far si che la temperatura non decrescesse troppo velocemente all'inizio, cioè quell'intervallo dove il sistema è più sensibile a bruschi cambi di temperatura"
   ]
  },
  {
   "cell_type": "markdown",
   "metadata": {},
   "source": [
    "L'algoritmo viene utilizzato per trovare il percorso più breve per collegare $N_{city}=32$ città (punti), distribuiti casualmente su una circonferenza e all'interno di un quadrato.\n",
    "\n",
    "In questo caso usiamo $N_{passi}=200$ per ogni valore di $\\beta$, con $\\beta$ che parte da $\\beta_0=0.001$ e arriva a $f(n_{final})$ con $n_{final}=800$."
   ]
  },
  {
   "cell_type": "code",
   "execution_count": null,
   "metadata": {},
   "outputs": [],
   "source": [
    "import matplotlib\n",
    "import matplotlib.pyplot as plt\n",
    "import numpy as np\n",
    "import math\n",
    "import scipy.optimize as opt\n",
    "from mpl_toolkits.mplot3d import Axes3D"
   ]
  },
  {
   "cell_type": "markdown",
   "metadata": {},
   "source": [
    "# Circonferenza"
   ]
  },
  {
   "cell_type": "code",
   "execution_count": null,
   "metadata": {},
   "outputs": [],
   "source": [
    "file=open('output.circle_pos.dat')\n",
    "xc,yc=np.loadtxt(file, delimiter=\",\", usecols=[0,1], unpack=True)\n",
    "\n",
    "file=open('output.order_circleA.dat')\n",
    "ordercA=np.loadtxt(file, delimiter=\",\", usecols=[0], unpack=True, dtype=\"int\")\n",
    "file=open('output.order_circleB.dat')\n",
    "ordercB=np.loadtxt(file, delimiter=\",\", usecols=[0], unpack=True, dtype=\"int\")\n",
    "file=open('output.order_circleC.dat')\n",
    "ordercC=np.loadtxt(file, delimiter=\",\", usecols=[0], unpack=True, dtype=\"int\")\n",
    "file=open('output.order_circleD.dat')\n",
    "ordercD=np.loadtxt(file, delimiter=\",\", usecols=[0], unpack=True, dtype=\"int\")\n",
    "\n",
    "\n",
    "fig, ax=plt.subplots(nrows=4, ncols=3, figsize=(15,18))\n",
    "ax[0][0].plot(xc,yc, '.')\n",
    "ax[0][0].set_title(\"point on a circumference\")\n",
    "ax[0][1].plot(xc,yc, '.-')\n",
    "ax[0][1].set_title(\"casual connection\")\n",
    "ax[0][2].plot(xc[ordercA-1],yc[ordercA-1], '.-')\n",
    "ax[0][2].set_title(\"connection after alghoritm (LINEAR)\")\n",
    "ax[1][0].plot(xc,yc, '.')\n",
    "ax[1][0].set_title(\"point on a circumference\")\n",
    "ax[1][1].plot(xc,yc, '.-')\n",
    "ax[1][1].set_title(\"casual connection\")\n",
    "ax[1][2].plot(xc[ordercB-1],yc[ordercB-1], '.-')\n",
    "ax[1][2].set_title(\"connection after alghoritm (QUADRATIC)\")\n",
    "ax[2][0].plot(xc,yc, '.')\n",
    "ax[2][0].set_title(\"point on a circumference\")\n",
    "ax[2][1].plot(xc,yc, '.-')\n",
    "ax[2][1].set_title(\"casual connection\")\n",
    "ax[2][2].plot(xc[ordercC-1],yc[ordercC-1], '.-')\n",
    "ax[2][2].set_title(\"connection after alghoritm (CUBIC)\")\n",
    "ax[3][0].plot(xc,yc, '.')\n",
    "ax[3][0].set_title(\"point on a circumference\")\n",
    "ax[3][1].plot(xc,yc, '.-')\n",
    "ax[3][1].set_title(\"casual connection\")\n",
    "ax[3][2].plot(xc[ordercD-1],yc[ordercD-1], '.-')\n",
    "ax[3][2].set_title(\"connection after alghoritm (EXPONENTIAL)\")\n",
    "plt.show()"
   ]
  },
  {
   "cell_type": "code",
   "execution_count": null,
   "metadata": {},
   "outputs": [],
   "source": [
    "file=open('output.L_circleA.dat')\n",
    "beta_A, step_A, L_A=np.loadtxt(file, delimiter=\",\", usecols=[0,1, 2], unpack=True)\n",
    "file=open('output.L_circleB.dat')\n",
    "beta_B, step_B, L_B=np.loadtxt(file, delimiter=\",\", usecols=[0,1, 2], unpack=True)\n",
    "file=open('output.L_circleC.dat')\n",
    "beta_C, step_C, L_C=np.loadtxt(file, delimiter=\",\", usecols=[0,1, 2], unpack=True)\n",
    "file=open('output.L_circleD.dat')\n",
    "beta_D, step_D, L_D=np.loadtxt(file, delimiter=\",\", usecols=[0,1, 2], unpack=True)\n",
    "\n",
    "fig, ax=plt.subplots(nrows=1, ncols=2, figsize=(18,6))\n",
    "ax[0].plot(step_A,L_A, '.--', label=\"linear\")\n",
    "ax[0].plot(step_B,L_B, '.--', label=\"quadratic\")\n",
    "ax[0].plot(step_C,L_C, '.--', label=\"cubic\")\n",
    "ax[0].plot(step_D,L_D, '.--', label=\"exponential\")\n",
    "ax[0].set_title(\"fitness\")\n",
    "ax[0].set_xlabel(r\"$step$\")\n",
    "ax[0].set_ylabel(r\"$L$\")\n",
    "ax[0].legend()\n",
    "\n",
    "ax[1].plot(beta_A,L_A, '.--', label=\"linear\")\n",
    "ax[1].plot(beta_B,L_B, '.--', label=\"quadratic\")\n",
    "ax[1].plot(beta_C,L_C, '.--', label=\"cubic\")\n",
    "ax[1].plot(beta_D,L_D, '.--', label=\"exponential\")\n",
    "ax[1].set_title(\"fitness\")\n",
    "ax[1].set_xlabel(r\"$\\beta$\")\n",
    "ax[1].set_ylabel(r\"$L$\")\n",
    "ax[1].set_xlim(-10,300)\n",
    "ax[1].legend()\n",
    "\n",
    "plt.show()\n",
    "\n",
    "print(\"Final fitness linear=\", L_A[-1])\n",
    "print(\"Final fitness quardatic=\", L_B[-1])\n",
    "print(\"Final fitness cubic=\", L_C[-1])\n",
    "print(\"Final fitness exponential=\", L_D[-1])"
   ]
  },
  {
   "cell_type": "markdown",
   "metadata": {},
   "source": [
    "Si osserva come per tutti gli andamenti di $\\beta$ l'algoritmo riesce a trovare il percorso migliore, cioè quello che minimizza la funzione di costo $L\\{x\\}$"
   ]
  },
  {
   "cell_type": "markdown",
   "metadata": {},
   "source": [
    "### Genetic vs Annealing"
   ]
  },
  {
   "cell_type": "code",
   "execution_count": null,
   "metadata": {},
   "outputs": [],
   "source": [
    "file=open('output.circle_pos.dat')\n",
    "xc,yc=np.loadtxt(file, delimiter=\",\", usecols=[0,1], unpack=True)\n",
    "\n",
    "file=open('output.order_circleA.dat')\n",
    "ordercA_SA=np.loadtxt(file, delimiter=\",\", usecols=[0], unpack=True, dtype=\"int\")\n",
    "file=open('output.order_circleB.dat')\n",
    "ordercB_SA=np.loadtxt(file, delimiter=\",\", usecols=[0], unpack=True, dtype=\"int\")\n",
    "file=open('output.order_circleC.dat')\n",
    "ordercC_SA=np.loadtxt(file, delimiter=\",\", usecols=[0], unpack=True, dtype=\"int\")\n",
    "file=open('output.order_circleD.dat')\n",
    "ordercD_SA=np.loadtxt(file, delimiter=\",\", usecols=[0], unpack=True, dtype=\"int\")\n",
    "file=open('../lab9/order_circle.dat')\n",
    "orderc_GA=np.loadtxt(file, delimiter=\",\", usecols=[0], unpack=True, dtype=\"int\")\n",
    "\n",
    "\n",
    "fig, ax=plt.subplots(nrows=2, ncols=2, figsize=(14,12))\n",
    "\n",
    "ax[0][0].plot(xc[ordercA_SA-1],yc[ordercA_SA-1], '.--', label=\"SA\")\n",
    "ax[0][0].plot(xc[orderc_GA-1],yc[orderc_GA-1], '.-.',label=\"GA\")\n",
    "ax[0][0].set_title(\"SA (linear) vs GA\")\n",
    "ax[0][0].legend()\n",
    "ax[1][0].plot(xc[ordercB_SA-1],yc[ordercB_SA-1], '.--',label=\"SA\")\n",
    "ax[1][0].plot(xc[orderc_GA-1],yc[orderc_GA-1], '.-.',label=\"GA\")\n",
    "ax[1][0].set_title(\"SA (quadratic) vs GA\")\n",
    "ax[1][0].legend()\n",
    "\n",
    "ax[0][1].plot(xc[ordercC_SA-1],yc[ordercC_SA-1], '.--',label=\"SA\")\n",
    "ax[0][1].plot(xc[orderc_GA-1],yc[orderc_GA-1], '.-.',label=\"GA\")\n",
    "ax[0][1].set_title(\"SA (cubic) vs GA\")\n",
    "ax[0][1].legend()\n",
    "\n",
    "ax[1][1].plot(xc[ordercD_SA-1],yc[ordercD_SA-1], '.--',label=\"SA\")\n",
    "ax[1][1].plot(xc[orderc_GA-1],yc[orderc_GA-1], '.-.',label=\"GA\")\n",
    "ax[1][1].set_title(\"SA (exponential) vs GA\")\n",
    "ax[1][1].legend()\n",
    "plt.show()"
   ]
  },
  {
   "cell_type": "markdown",
   "metadata": {},
   "source": [
    "Si nota come nel caso della circonferenza gli algoritmi di simulated annealing e quello genetico riproducano gli stessi risultati"
   ]
  },
  {
   "cell_type": "markdown",
   "metadata": {},
   "source": [
    "------------------"
   ]
  },
  {
   "cell_type": "markdown",
   "metadata": {},
   "source": [
    "==================================================================================================="
   ]
  },
  {
   "cell_type": "markdown",
   "metadata": {},
   "source": [
    "------------------------------"
   ]
  },
  {
   "cell_type": "markdown",
   "metadata": {},
   "source": [
    "# Quadrato"
   ]
  },
  {
   "cell_type": "code",
   "execution_count": null,
   "metadata": {},
   "outputs": [],
   "source": [
    "file=open('output.square_pos.dat')\n",
    "xc,yc=np.loadtxt(file, delimiter=\",\", usecols=[0,1], unpack=True)\n",
    "\n",
    "file=open('output.order_squareA.dat')\n",
    "ordercA=np.loadtxt(file, delimiter=\",\", usecols=[0], unpack=True, dtype=\"int\")\n",
    "file=open('output.order_squareB.dat')\n",
    "ordercB=np.loadtxt(file, delimiter=\",\", usecols=[0], unpack=True, dtype=\"int\")\n",
    "file=open('output.order_squareC.dat')\n",
    "ordercC=np.loadtxt(file, delimiter=\",\", usecols=[0], unpack=True, dtype=\"int\")\n",
    "file=open('output.order_squareD.dat')\n",
    "ordercD=np.loadtxt(file, delimiter=\",\", usecols=[0], unpack=True, dtype=\"int\")\n",
    "\n",
    "\n",
    "\n",
    "fig, ax=plt.subplots(nrows=4, ncols=3, figsize=(15,18))\n",
    "ax[0][0].plot(xc,yc, '.')\n",
    "ax[0][0].set_title(\"point on a circumference\")\n",
    "ax[0][1].plot(xc,yc, '.-')\n",
    "ax[0][1].set_title(\"casual connection\")\n",
    "ax[0][2].plot(xc[ordercA-1],yc[ordercA-1], '.-')\n",
    "ax[0][2].set_title(\"connection after alghoritm (LINEAR)\")\n",
    "ax[1][0].plot(xc,yc, '.')\n",
    "ax[1][0].set_title(\"point on a circumference\")\n",
    "ax[1][1].plot(xc,yc, '.-')\n",
    "ax[1][1].set_title(\"casual connection\")\n",
    "ax[1][2].plot(xc[ordercB-1],yc[ordercB-1], '.-')\n",
    "ax[1][2].set_title(\"connection after alghoritm (QUADRATIC)\")\n",
    "ax[2][0].plot(xc,yc, '.')\n",
    "ax[2][0].set_title(\"point on a circumference\")\n",
    "ax[2][1].plot(xc,yc, '.-')\n",
    "ax[2][1].set_title(\"casual connection\")\n",
    "ax[2][2].plot(xc[ordercC-1],yc[ordercC-1], '.-')\n",
    "ax[2][2].set_title(\"connection after alghoritm (CUBIC)\")\n",
    "ax[3][0].plot(xc,yc, '.')\n",
    "ax[3][0].set_title(\"point on a circumference\")\n",
    "ax[3][1].plot(xc,yc, '.-')\n",
    "ax[3][1].set_title(\"casual connection\")\n",
    "ax[3][2].plot(xc[ordercD-1],yc[ordercD-1], '.-')\n",
    "ax[3][2].set_title(\"connection after alghoritm (EXPONENTIAL)\")\n",
    "plt.show()"
   ]
  },
  {
   "cell_type": "markdown",
   "metadata": {},
   "source": [
    "L'algoritmo funziona bene nel senso che in tutte le dipendenze funzionali di $beta$, viene raggiunta una configurazione ottimale (non ci sono intersezioni). Non essendo una disposizione semplice come quella della circonferenza e non avendo un tempo infinito di esecuzione dell'algoritmo le configurazioni raggiunte sono, in alcuni casi, diverse tra loro."
   ]
  },
  {
   "cell_type": "code",
   "execution_count": null,
   "metadata": {},
   "outputs": [],
   "source": [
    "file=open('output.L_squareA.dat')\n",
    "beta_A, step_A, L_A=np.loadtxt(file, delimiter=\",\", usecols=[0,1, 2], unpack=True)\n",
    "file=open('output.L_squareB.dat')\n",
    "beta_B, step_B, L_B=np.loadtxt(file, delimiter=\",\", usecols=[0,1, 2], unpack=True)\n",
    "file=open('output.L_squareC.dat')\n",
    "beta_C, step_C, L_C=np.loadtxt(file, delimiter=\",\", usecols=[0,1, 2], unpack=True)\n",
    "file=open('output.L_squareD.dat')\n",
    "beta_D, step_D, L_D=np.loadtxt(file, delimiter=\",\", usecols=[0,1, 2], unpack=True)\n",
    "\n",
    "\n",
    "\n",
    "fig, ax=plt.subplots(nrows=1, ncols=2, figsize=(15,4))\n",
    "ax[0].plot(step_A,L_A, '.--', label=\"linear\")\n",
    "ax[0].plot(step_B,L_B, '.--', label=\"quadratic\")\n",
    "ax[0].plot(step_C,L_C, '.--', label=\"cubic\")\n",
    "ax[0].plot(step_D,L_D, '.--', label=\"exponential\")\n",
    "ax[0].set_title(\"fitness\")\n",
    "ax[0].set_xlabel(r\"$step$\")\n",
    "ax[0].set_ylabel(r\"$L$\")\n",
    "ax[0].legend()\n",
    "ax[1].plot(beta_A,L_A, '.--', label=\"linear\")\n",
    "ax[1].plot(beta_B,L_B, '.--', label=\"quadratic\")\n",
    "ax[1].plot(beta_C,L_C, '.--', label=\"cubic\")\n",
    "ax[1].plot(beta_D,L_D, '.--', label=\"exponential\")\n",
    "ax[1].set_title(\"fitness\")\n",
    "ax[1].set_xlabel(r\"$\\beta$\")\n",
    "ax[1].set_ylabel(r\"$L$\")\n",
    "ax[1].legend()\n",
    "\n",
    "plt.show()\n",
    "\n",
    "print(\"Final fitness linear=\", L_A[len(L_A)-1])\n",
    "print(\"Final fitness quardatic=\", L_B[len(L_B)-1])\n",
    "print(\"Final fitness 3=\", L_C[len(L_C)-1])\n",
    "print(\"Final fitness exponential=\", L_D[len(L_D)-1])"
   ]
  },
  {
   "cell_type": "markdown",
   "metadata": {},
   "source": [
    "### Genetic vs Annealing"
   ]
  },
  {
   "cell_type": "code",
   "execution_count": null,
   "metadata": {},
   "outputs": [],
   "source": [
    "file=open('output.square_pos.dat')\n",
    "xc,yc=np.loadtxt(file, delimiter=\",\", usecols=[0,1], unpack=True)\n",
    "\n",
    "file=open('output.order_squareA.dat')\n",
    "ordercA_SA=np.loadtxt(file, delimiter=\",\", usecols=[0], unpack=True, dtype=\"int\")\n",
    "file=open('output.order_squareB.dat')\n",
    "ordercB_SA=np.loadtxt(file, delimiter=\",\", usecols=[0], unpack=True, dtype=\"int\")\n",
    "file=open('output.order_squareC.dat')\n",
    "ordercC_SA=np.loadtxt(file, delimiter=\",\", usecols=[0], unpack=True, dtype=\"int\")\n",
    "file=open('output.order_squareD.dat')\n",
    "ordercD_SA=np.loadtxt(file, delimiter=\",\", usecols=[0], unpack=True, dtype=\"int\")\n",
    "file=open('../lab9/order_square.dat')\n",
    "orderc_GA=np.loadtxt(file, delimiter=\",\", usecols=[0], unpack=True, dtype=\"int\")\n",
    "\n",
    "\n",
    "fig, ax=plt.subplots(nrows=2, ncols=2, figsize=(14,10))\n",
    "\n",
    "ax[0][0].plot(xc[ordercA_SA-1],yc[ordercA_SA-1], '.--', label=\"SA\")\n",
    "ax[0][0].plot(xc[orderc_GA-1],yc[orderc_GA-1], '.-.',label=\"GA\")\n",
    "ax[0][0].set_title(\"SA (linear) vs GA\")\n",
    "ax[0][0].legend()\n",
    "ax[1][0].plot(xc[ordercB_SA-1],yc[ordercB_SA-1], '.--',label=\"SA\")\n",
    "ax[1][0].plot(xc[orderc_GA-1],yc[orderc_GA-1], '.-.',label=\"GA\")\n",
    "ax[1][0].set_title(\"SA (quadratic) vs GA\")\n",
    "ax[1][0].legend()\n",
    "\n",
    "ax[0][1].plot(xc[ordercC_SA-1],yc[ordercC_SA-1], '.--',label=\"SA\")\n",
    "ax[0][1].plot(xc[orderc_GA-1],yc[orderc_GA-1], '.-.',label=\"GA\")\n",
    "ax[0][1].set_title(\"SA (cubic) vs GA\")\n",
    "ax[0][1].legend()\n",
    "\n",
    "ax[1][1].plot(xc[ordercD_SA-1],yc[ordercD_SA-1], '.--',label=\"SA\")\n",
    "ax[1][1].plot(xc[orderc_GA-1],yc[orderc_GA-1], '.-.',label=\"GA\")\n",
    "ax[1][1].set_title(\"SA (exponential) vs GA\")\n",
    "ax[1][1].legend()\n",
    "\n",
    "plt.show()"
   ]
  },
  {
   "cell_type": "markdown",
   "metadata": {},
   "source": [
    "Come detto sopra l'algoritmo funziona bene e in alcuni casi riesce a trovare configurazioni più ottimali che nel caso dell'algoritmo genetico, la cui funzione di costo finale era di $L_{genetic}=6.2668$"
   ]
  },
  {
   "cell_type": "markdown",
   "metadata": {},
   "source": [
    "## MPI"
   ]
  },
  {
   "cell_type": "markdown",
   "metadata": {},
   "source": [
    "come modificarlo?\n",
    "\n",
    "- commentare e spiegare teoria\n",
    "- provare a fare più passi montecarlo per ogni temperatura\n",
    "- MPI\n"
   ]
  },
  {
   "cell_type": "code",
   "execution_count": null,
   "metadata": {},
   "outputs": [],
   "source": []
  }
 ],
 "metadata": {
  "kernelspec": {
   "display_name": "Python 3",
   "language": "python",
   "name": "python3"
  },
  "language_info": {
   "codemirror_mode": {
    "name": "ipython",
    "version": 3
   },
   "file_extension": ".py",
   "mimetype": "text/x-python",
   "name": "python",
   "nbconvert_exporter": "python",
   "pygments_lexer": "ipython3",
   "version": "3.8.5"
  }
 },
 "nbformat": 4,
 "nbformat_minor": 4
}
