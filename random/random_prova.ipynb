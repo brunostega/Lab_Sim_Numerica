{
 "cells": [
  {
   "cell_type": "code",
   "execution_count": 2,
   "metadata": {},
   "outputs": [],
   "source": [
    "import matplotlib\n",
    "import matplotlib.pyplot as plt\n",
    "import numpy as np\n",
    "import math\n"
   ]
  },
  {
   "cell_type": "markdown",
   "metadata": {},
   "source": [
    "### Linear congruential generator\n",
    "\n",
    "Provo a costruire un generatore lineare congruenziale\n",
    "$$\n",
    "x_{n+1}=x_n*a+b*mod(m)\n",
    "$$"
   ]
  },
  {
   "cell_type": "code",
   "execution_count": 82,
   "metadata": {},
   "outputs": [
    {
     "name": "stdout",
     "output_type": "stream",
     "text": [
      "[0.94694183 0.98620372 0.57984594 0.03598528 0.40428834 0.49574615\n",
      " 0.1963095  0.1622212  0.17389055 0.53920441 0.28092665 0.06242814\n",
      " 0.49810301 0.47206254 0.42532766 0.95734652 0.20355254 0.00965739\n",
      " 0.32392504 0.09323983 0.10306967 0.25316165 0.81392274 0.4229708\n",
      " 0.68159347 0.94044608 0.22620143 0.65957691 0.36450908 0.84157278\n",
      " 0.65802483 0.18291561 0.59513681 0.82501725 0.72102782 0.55426535\n",
      " 0.04305587 0.23154748 0.28506553 0.5466774  0.15526558 0.36008278\n",
      " 0.3236951  0.06633709 0.95544953 0.98160497 0.04179122 0.08358243\n",
      " 0.97315475 0.05311566 0.40854219 0.99344677 0.42728213 0.18601977\n",
      " 0.95832375 0.31788917 0.387043   0.47804093 0.1247988  0.79547022\n",
      " 0.26402621 0.08507703 0.14802253 0.51264659 0.17366061 0.51230168\n",
      " 0.13330651 0.79087146 0.72597149 0.13267418 0.71688894 0.0700161\n",
      " 0.38589331 0.34352725 0.38669809 0.43768682 0.40336859 0.3881352\n",
      " 0.60582893 0.07599448 0.08536445 0.18165095 0.44717176 0.51310646\n",
      " 0.22746608 0.80754196 0.67641987 0.33513451 0.40474822 0.54955162\n",
      " 0.49154978 0.70533456 0.7181536  0.21798115 0.69780409 0.83708899\n",
      " 0.13342148 0.80432283 0.29978156 0.26845252]\n",
      "0.435625431133594\n"
     ]
    }
   ],
   "source": [
    "a=117\n",
    "b=3375\n",
    "m=17396\n",
    "seed=16473\n",
    "N=100\n",
    "def lcg(x):\n",
    "    y=(x*a+b)%m\n",
    "    #print(x*a+b)\n",
    "    return y\n",
    "\n",
    "\n",
    "rand_numbers=np.zeros(N)\n",
    "rand_numbers[0]=seed\n",
    "for i in range(N-1):\n",
    "    x=rand_numbers[i]\n",
    "    rand_numbers[i+1]=lcg(x)\n",
    "    \n",
    "rand_numbers=rand_numbers/m\n",
    "print(rand_numbers)\n",
    "print(rand_numbers.mean())"
   ]
  },
  {
   "cell_type": "code",
   "execution_count": 83,
   "metadata": {},
   "outputs": [
    {
     "data": {
      "text/plain": [
       "False"
      ]
     },
     "execution_count": 83,
     "metadata": {},
     "output_type": "execute_result"
    }
   ],
   "source": [
    "rand1=np.array(rand_numbers[0:int(N/2)])\n",
    "rand2=np.array(rand_numbers[int(N/2):N])\n",
    "rand_prod=rand1*rand2\n",
    "\n",
    "rand_prod.mean()-rand1.mean()*rand2.mean()\n"
   ]
  },
  {
   "cell_type": "code",
   "execution_count": 93,
   "metadata": {},
   "outputs": [
    {
     "name": "stdout",
     "output_type": "stream",
     "text": [
      "è ciclico\n"
     ]
    }
   ],
   "source": [
    "#controllo che non sia ciclico\n",
    "primo=rand_numbers[1]\n",
    "if np.any(rand_numbers[1:]==primo):\n",
    "    print(\"è ciclico\")\n",
    "else:\n",
    "    print(\"non è ciclico\")"
   ]
  },
  {
   "cell_type": "markdown",
   "metadata": {},
   "source": [
    "### Pseudo random number generati con algoritmo di Galli"
   ]
  },
  {
   "cell_type": "code",
   "execution_count": 86,
   "metadata": {},
   "outputs": [],
   "source": [
    "file=open('random.txt')\n",
    "#print(file.read())\n",
    "x=[]\n",
    "for line in file:\n",
    "    x.append(float(line))\n",
    "file.close()"
   ]
  },
  {
   "cell_type": "code",
   "execution_count": 94,
   "metadata": {},
   "outputs": [
    {
     "name": "stdout",
     "output_type": "stream",
     "text": [
      "0.50125865051899\n",
      "0.0832802634659552\n",
      "non è ciclico\n"
     ]
    }
   ],
   "source": [
    "x=np.array(x)\n",
    "print(x.mean())\n",
    "print(x.var())\n",
    "\n",
    "#controllo che non sia ciclico\n",
    "i=1\n",
    "primo=x[i]\n",
    "if np.any(x[i+1:]==primo):\n",
    "    print(\"è ciclico\")\n",
    "else:\n",
    "    print(\"non è ciclico\")"
   ]
  },
  {
   "cell_type": "code",
   "execution_count": null,
   "metadata": {},
   "outputs": [],
   "source": [
    "L=len(x)\n",
    "\n"
   ]
  },
  {
   "cell_type": "code",
   "execution_count": 12,
   "metadata": {},
   "outputs": [
    {
     "data": {
      "image/png": "[encoded data removed]",
      "text/plain": [
       "<Figure size 432x288 with 1 Axes>"
      ]
     },
     "metadata": {
      "needs_background": "light"
     },
     "output_type": "display_data"
    }
   ],
   "source": [
    "plt.plot(x)\n",
    "plt.xlabel('#throws')\n",
    "plt.ylabel('<r>-1/2')\n",
    "plt.grid(True)\n",
    "plt.show()"
   ]
  },
  {
   "cell_type": "code",
   "execution_count": null,
   "metadata": {},
   "outputs": [],
   "source": []
  }
 ],
 "metadata": {
  "kernelspec": {
   "display_name": "Python 3",
   "language": "python",
   "name": "python3"
  },
  "language_info": {
   "codemirror_mode": {
    "name": "ipython",
    "version": 3
   },
   "file_extension": ".py",
   "mimetype": "text/x-python",
   "name": "python",
   "nbconvert_exporter": "python",
   "pygments_lexer": "ipython3",
   "version": "3.8.5"
  }
 },
 "nbformat": 4,
 "nbformat_minor": 4
}
