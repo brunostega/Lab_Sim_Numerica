{
 "cells": [
  {
   "cell_type": "markdown",
   "metadata": {},
   "source": [
    "# Esercizio 1.2: teorema del limite centrale\n",
    "\n",
    "Testo il teorema del limite centrale andando a determinare la distribuzione di probabilità di $S_N$, dove\n",
    "$$\n",
    "S_N=\\frac{1}{N}\\sum_i^N x_i\n",
    "$$\n",
    "e dove x_i sono le variabili casuali distribuite secondo rispettivamente una distribuzione\n",
    "\n",
    "- distribuzione intera uniforme in [1,6] (facce di un dado)\n",
    "- distribuzione esponenziale\n",
    "- distribuzione di cauchy\n"
   ]
  },
  {
   "cell_type": "code",
   "execution_count": 1,
   "metadata": {},
   "outputs": [],
   "source": [
    "import matplotlib\n",
    "import matplotlib.pyplot as plt\n",
    "import numpy as np\n",
    "import math"
   ]
  },
  {
   "cell_type": "markdown",
   "metadata": {},
   "source": [
    "## Dado: distribuzione intera uniforme"
   ]
  },
  {
   "cell_type": "code",
   "execution_count": 2,
   "metadata": {},
   "outputs": [],
   "source": [
    "S1,S2, S10, S100=np.loadtxt('dado.csv', delimiter=\",\", usecols=[0,1,2,3], unpack=True)"
   ]
  },
  {
   "cell_type": "markdown",
   "metadata": {},
   "source": [
    "#### Grafici"
   ]
  },
  {
   "cell_type": "code",
   "execution_count": 3,
   "metadata": {},
   "outputs": [
    {
     "data": {
      "image/png": "[encoded data removed]",
      "text/plain": [
       "<Figure size 432x288 with 4 Axes>"
      ]
     },
     "metadata": {
      "needs_background": "light"
     },
     "output_type": "display_data"
    }
   ],
   "source": [
    "fig , ax = plt.subplots(nrows = 2, ncols = 2)\n",
    "bin=50\n",
    "ax[0][0].hist(S1,bin)\n",
    "ax[0][1].hist(S2,bin)\n",
    "ax[1][0].hist(S10,bin)\n",
    "ax[1][1].hist(S100,bin)\n",
    "plt.show()"
   ]
  },
  {
   "cell_type": "markdown",
   "metadata": {},
   "source": [
    "## Distribuzione esponenziale\n",
    "$$\n",
    "p(x)=\\lambda e^{-\\lambda x}\n",
    "$$"
   ]
  },
  {
   "cell_type": "code",
   "execution_count": 4,
   "metadata": {},
   "outputs": [],
   "source": [
    "S1,S2, S10, S100=np.loadtxt('exp.csv', delimiter=\",\", usecols=[0,1,2,3], unpack=True)"
   ]
  },
  {
   "cell_type": "markdown",
   "metadata": {},
   "source": [
    "#### Grafici"
   ]
  },
  {
   "cell_type": "code",
   "execution_count": 5,
   "metadata": {},
   "outputs": [
    {
     "data": {
      "image/png": "[encoded data removed]",
      "text/plain": [
       "<Figure size 432x288 with 4 Axes>"
      ]
     },
     "metadata": {
      "needs_background": "light"
     },
     "output_type": "display_data"
    }
   ],
   "source": [
    "fig , ax = plt.subplots(nrows = 2, ncols = 2)\n",
    "bin=50\n",
    "ax[0][0].hist(S1,bin)\n",
    "ax[0][1].hist(S2,bin)\n",
    "ax[1][0].hist(S10,bin)\n",
    "ax[1][1].hist(S100,bin)\n",
    "plt.show()"
   ]
  },
  {
   "cell_type": "markdown",
   "metadata": {},
   "source": [
    "## Distribuzione di Cauchy\n",
    "$$\n",
    "p(x)=\\frac{1}{\\pi} \\frac{\\Gamma}{(x-\\mu)^2-\\Gamma^2}\n",
    "$$"
   ]
  },
  {
   "cell_type": "code",
   "execution_count": 6,
   "metadata": {},
   "outputs": [],
   "source": [
    "S1,S2, S10, S100=np.loadtxt('cauchy.csv', delimiter=\",\", usecols=[0,1,2,3], unpack=True)"
   ]
  },
  {
   "cell_type": "markdown",
   "metadata": {},
   "source": [
    "#### Grafici"
   ]
  },
  {
   "cell_type": "code",
   "execution_count": 7,
   "metadata": {},
   "outputs": [
    {
     "data": {
      "image/png": "[encoded data removed]",
      "text/plain": [
       "<Figure size 432x288 with 4 Axes>"
      ]
     },
     "metadata": {
      "needs_background": "light"
     },
     "output_type": "display_data"
    }
   ],
   "source": [
    "fig , ax = plt.subplots(nrows = 2, ncols = 2)\n",
    "bin=50\n",
    "Range=(-3.,3.)\n",
    "ax[0][0].hist(S1,bin,Range)\n",
    "ax[0][1].hist(S2,bin,Range)\n",
    "ax[1][0].hist(S10,bin,Range)\n",
    "ax[1][1].hist(S100,bin,Range)\n",
    "plt.show()"
   ]
  },
  {
   "cell_type": "code",
   "execution_count": null,
   "metadata": {},
   "outputs": [],
   "source": []
  }
 ],
 "metadata": {
  "kernelspec": {
   "display_name": "Python 3",
   "language": "python",
   "name": "python3"
  },
  "language_info": {
   "codemirror_mode": {
    "name": "ipython",
    "version": 3
   },
   "file_extension": ".py",
   "mimetype": "text/x-python",
   "name": "python",
   "nbconvert_exporter": "python",
   "pygments_lexer": "ipython3",
   "version": "3.8.5"
  }
 },
 "nbformat": 4,
 "nbformat_minor": 4
}
