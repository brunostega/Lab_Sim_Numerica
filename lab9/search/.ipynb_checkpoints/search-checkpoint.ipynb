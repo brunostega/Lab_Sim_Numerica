{
 "cells": [
  {
   "cell_type": "code",
   "execution_count": 1,
   "metadata": {},
   "outputs": [],
   "source": [
    "import matplotlib\n",
    "import matplotlib.pyplot as plt\n",
    "import numpy as np\n",
    "import math\n",
    "import scipy.optimize as opt\n",
    "from mpl_toolkits.mplot3d import Axes3D"
   ]
  },
  {
   "cell_type": "code",
   "execution_count": 57,
   "metadata": {},
   "outputs": [
    {
     "name": "stderr",
     "output_type": "stream",
     "text": [
      "<ipython-input-57-8c65703bd1d2>:12: MatplotlibDeprecationWarning: shading='flat' when X and Y have the same dimensions as C is deprecated since 3.3.  Either specify the corners of the quadrilaterals with X and Y, or pass shading='auto', 'nearest' or 'gouraud', or set rcParams['pcolor.shading'].  This will become an error two minor releases later.\n",
      "  pcm=ax.pcolormesh(P_m, indiv, loss,cmap='RdBu',vmin=loss_min, vmax=loss_max)\n"
     ]
    },
    {
     "data": {
      "image/png": "[encoded data removed]",
      "text/plain": [
       "<Figure size 432x288 with 2 Axes>"
      ]
     },
     "metadata": {
      "needs_background": "light"
     },
     "output_type": "display_data"
    }
   ],
   "source": [
    "file=open('crossover1/Search_L_circle.dat')\n",
    "L=np.loadtxt(file, delimiter=\",\", usecols=[ 2], unpack=True)\n",
    "indiv=np.linspace(50,500, 10)\n",
    "P_m=np.linspace(0.1,0.37,10)\n",
    "\n",
    "loss=np.zeros((10,10))\n",
    "for i in range(10):\n",
    "    for j in range(10):\n",
    "        loss[i][j]=L[i*10+j]\n",
    "loss_min, loss_max=loss.min(), loss.max()\n",
    "fig, ax = plt.subplots()\n",
    "pcm=ax.pcolormesh(P_m, indiv, loss,cmap='RdBu',vmin=loss_min, vmax=loss_max)\n",
    "fig.colorbar(pcm,ax=ax)\n",
    "plt.show()"
   ]
  },
  {
   "cell_type": "code",
   "execution_count": 56,
   "metadata": {},
   "outputs": [
    {
     "name": "stderr",
     "output_type": "stream",
     "text": [
      "<ipython-input-56-6edb7016bf32>:12: MatplotlibDeprecationWarning: shading='flat' when X and Y have the same dimensions as C is deprecated since 3.3.  Either specify the corners of the quadrilaterals with X and Y, or pass shading='auto', 'nearest' or 'gouraud', or set rcParams['pcolor.shading'].  This will become an error two minor releases later.\n",
      "  pcm=ax.pcolormesh(P_m, indiv, loss,cmap='RdBu',vmin=loss_min, vmax=loss_max)\n"
     ]
    },
    {
     "data": {
      "image/png": "[encoded data removed]",
      "text/plain": [
       "<Figure size 432x288 with 2 Axes>"
      ]
     },
     "metadata": {
      "needs_background": "light"
     },
     "output_type": "display_data"
    },
    {
     "name": "stdout",
     "output_type": "stream",
     "text": [
      "[6.33586 6.32522 6.32522 6.73237 6.89995 6.5198  5.92621 6.61319 6.78406\n",
      " 6.46422 6.08187 6.08187 6.08187 6.08187 6.08187 6.08187 6.08187 5.92621\n",
      " 5.92621 5.92621 5.92621 5.92621 5.92621 5.92621 5.92621 5.92621 5.92621\n",
      " 5.92621 5.84313 5.84313 5.84313 5.84313 5.84313 5.84313 5.84313 5.84313\n",
      " 5.84313 5.84313 5.84313 5.84313 5.84313 5.84313 5.84313 5.84313 5.84313\n",
      " 5.84313 5.84313 5.84313 5.84313 5.84313 5.84313 5.84313 5.84313 5.84313\n",
      " 5.84313 5.84313 5.84313 5.84313 5.84313 5.84313 5.84313 5.84313 5.84313\n",
      " 5.84313 5.84313 5.84313 5.84313 5.84313 5.84313 5.84313 5.84313 5.84313\n",
      " 5.84313 5.84313 5.84313 5.84313 5.84313 5.84313 5.84313 5.84313 5.84313\n",
      " 5.84313 5.84313 5.84313 5.84313 5.84313 5.84313 5.84313 5.84313 5.84313\n",
      " 5.84313 5.84313 5.84313 5.84313 5.84313 5.84313 5.84313 5.84313 5.84313\n",
      " 5.84313]\n",
      "[[6.33586 6.32522 6.32522 6.73237 6.89995 6.5198  5.92621 6.61319 6.78406\n",
      "  6.46422]\n",
      " [6.08187 6.08187 6.08187 6.08187 6.08187 6.08187 6.08187 5.92621 5.92621\n",
      "  5.92621]\n",
      " [5.92621 5.92621 5.92621 5.92621 5.92621 5.92621 5.92621 5.92621 5.84313\n",
      "  5.84313]\n",
      " [5.84313 5.84313 5.84313 5.84313 5.84313 5.84313 5.84313 5.84313 5.84313\n",
      "  5.84313]\n",
      " [5.84313 5.84313 5.84313 5.84313 5.84313 5.84313 5.84313 5.84313 5.84313\n",
      "  5.84313]\n",
      " [5.84313 5.84313 5.84313 5.84313 5.84313 5.84313 5.84313 5.84313 5.84313\n",
      "  5.84313]\n",
      " [5.84313 5.84313 5.84313 5.84313 5.84313 5.84313 5.84313 5.84313 5.84313\n",
      "  5.84313]\n",
      " [5.84313 5.84313 5.84313 5.84313 5.84313 5.84313 5.84313 5.84313 5.84313\n",
      "  5.84313]\n",
      " [5.84313 5.84313 5.84313 5.84313 5.84313 5.84313 5.84313 5.84313 5.84313\n",
      "  5.84313]\n",
      " [5.84313 5.84313 5.84313 5.84313 5.84313 5.84313 5.84313 5.84313 5.84313\n",
      "  5.84313]]\n"
     ]
    }
   ],
   "source": [
    "file=open('crossover1/Search_L_square.dat')\n",
    "L=np.loadtxt(file, delimiter=\",\", usecols=[ 2], unpack=True)\n",
    "indiv=np.linspace(50,500, 10)\n",
    "P_m=np.linspace(0.1,0.37,10)\n",
    "\n",
    "loss=np.zeros((10,10))\n",
    "for i in range(10):\n",
    "    for j in range(10):\n",
    "        loss[i][j]=L[i*10+j]\n",
    "loss_min, loss_max=loss.min(), loss.max()\n",
    "fig, ax = plt.subplots()\n",
    "pcm=ax.pcolormesh(P_m, indiv, loss,cmap='RdBu',vmin=loss_min, vmax=loss_max)\n",
    "fig.colorbar(pcm,ax=ax)\n",
    "plt.show()"
   ]
  },
  {
   "cell_type": "code",
   "execution_count": 83,
   "metadata": {},
   "outputs": [
    {
     "name": "stdout",
     "output_type": "stream",
     "text": [
      "8\n",
      "[7.6673 7.6673 7.6673 7.6673 7.6673 7.6673]\n"
     ]
    },
    {
     "name": "stderr",
     "output_type": "stream",
     "text": [
      "<ipython-input-83-b6a203e5df65>:20: MatplotlibDeprecationWarning: shading='flat' when X and Y have the same dimensions as C is deprecated since 3.3.  Either specify the corners of the quadrilaterals with X and Y, or pass shading='auto', 'nearest' or 'gouraud', or set rcParams['pcolor.shading'].  This will become an error two minor releases later.\n",
      "  pcm=ax.pcolormesh(P_m, indiv, loss[:][:][0],cmap='RdBu',vmin=loss_min, vmax=loss_max)\n"
     ]
    },
    {
     "data": {
      "image/png": "[encoded data removed]",
      "text/plain": [
       "<Figure size 432x288 with 2 Axes>"
      ]
     },
     "metadata": {
      "needs_background": "light"
     },
     "output_type": "display_data"
    }
   ],
   "source": [
    "file=open('crossover2/Search_L_square.dat')\n",
    "L=np.loadtxt(file, delimiter=\",\", usecols=[ 3], unpack=True)\n",
    "N_grid=8\n",
    "N_exp=6\n",
    "indiv=np.arange(50,50*(N_grid+1), 50)\n",
    "P_m=np.arange(0.1,0.03*(N_grid+1),0.03)\n",
    "loss=np.zeros((N_grid,N_grid, N_exp))\n",
    "for i in range(N_grid):\n",
    "    for j in range(N_grid):\n",
    "        for k in range(N_exp):\n",
    "            loss[i][j][k]=L[i*N_grid+j*N_grid+k]\n",
    "loss_min, loss_max=loss.min(), loss.max()\n",
    "\n",
    "print(len(indiv))\n",
    "Min_exp=np.zeros(N_exp)\n",
    "for i in range(N_exp):\n",
    "    Min_exp[i]=loss[:][:][i].min()\n",
    "print(Min_exp)\n",
    "fig, ax = plt.subplots()\n",
    "pcm=ax.pcolormesh(P_m, indiv, loss[:][:][0],cmap='RdBu',vmin=loss_min, vmax=loss_max)\n",
    "fig.colorbar(pcm,ax=ax)\n",
    "plt.show()\n"
   ]
  },
  {
   "cell_type": "code",
   "execution_count": 41,
   "metadata": {},
   "outputs": [
    {
     "ename": "TypeError",
     "evalue": "pcolormesh() takes 1 or 3 positional arguments but 2 were given",
     "output_type": "error",
     "traceback": [
      "\u001b[0;31m---------------------------------------------------------------------------\u001b[0m",
      "\u001b[0;31mTypeError\u001b[0m                                 Traceback (most recent call last)",
      "\u001b[0;32m<ipython-input-41-6302bba741da>\u001b[0m in \u001b[0;36m<module>\u001b[0;34m\u001b[0m\n\u001b[1;32m      5\u001b[0m \u001b[0;34m\u001b[0m\u001b[0m\n\u001b[1;32m      6\u001b[0m \u001b[0mfig\u001b[0m\u001b[0;34m,\u001b[0m \u001b[0max\u001b[0m \u001b[0;34m=\u001b[0m \u001b[0mplt\u001b[0m\u001b[0;34m.\u001b[0m\u001b[0msubplots\u001b[0m\u001b[0;34m(\u001b[0m\u001b[0;34m)\u001b[0m\u001b[0;34m\u001b[0m\u001b[0;34m\u001b[0m\u001b[0m\n\u001b[0;32m----> 7\u001b[0;31m \u001b[0mpcm\u001b[0m\u001b[0;34m=\u001b[0m\u001b[0max\u001b[0m\u001b[0;34m.\u001b[0m\u001b[0mpcolormesh\u001b[0m\u001b[0;34m(\u001b[0m\u001b[0;34m[\u001b[0m\u001b[0mindiv\u001b[0m\u001b[0;34m,\u001b[0m \u001b[0mP_m\u001b[0m\u001b[0;34m,\u001b[0m\u001b[0;34m]\u001b[0m\u001b[0;34m,\u001b[0m \u001b[0mindiv\u001b[0m\u001b[0;34m)\u001b[0m\u001b[0;34m\u001b[0m\u001b[0;34m\u001b[0m\u001b[0m\n\u001b[0m\u001b[1;32m      8\u001b[0m \u001b[0mfig\u001b[0m\u001b[0;34m.\u001b[0m\u001b[0mcolorbar\u001b[0m\u001b[0;34m(\u001b[0m\u001b[0mpcm\u001b[0m\u001b[0;34m,\u001b[0m\u001b[0max\u001b[0m\u001b[0;34m=\u001b[0m\u001b[0max\u001b[0m\u001b[0;34m)\u001b[0m\u001b[0;34m\u001b[0m\u001b[0;34m\u001b[0m\u001b[0m\n",
      "\u001b[0;32m~/anaconda3/lib/python3.8/site-packages/matplotlib/__init__.py\u001b[0m in \u001b[0;36minner\u001b[0;34m(ax, data, *args, **kwargs)\u001b[0m\n\u001b[1;32m   1436\u001b[0m     \u001b[0;32mdef\u001b[0m \u001b[0minner\u001b[0m\u001b[0;34m(\u001b[0m\u001b[0max\u001b[0m\u001b[0;34m,\u001b[0m \u001b[0;34m*\u001b[0m\u001b[0margs\u001b[0m\u001b[0;34m,\u001b[0m \u001b[0mdata\u001b[0m\u001b[0;34m=\u001b[0m\u001b[0;32mNone\u001b[0m\u001b[0;34m,\u001b[0m \u001b[0;34m**\u001b[0m\u001b[0mkwargs\u001b[0m\u001b[0;34m)\u001b[0m\u001b[0;34m:\u001b[0m\u001b[0;34m\u001b[0m\u001b[0;34m\u001b[0m\u001b[0m\n\u001b[1;32m   1437\u001b[0m         \u001b[0;32mif\u001b[0m \u001b[0mdata\u001b[0m \u001b[0;32mis\u001b[0m \u001b[0;32mNone\u001b[0m\u001b[0;34m:\u001b[0m\u001b[0;34m\u001b[0m\u001b[0;34m\u001b[0m\u001b[0m\n\u001b[0;32m-> 1438\u001b[0;31m             \u001b[0;32mreturn\u001b[0m \u001b[0mfunc\u001b[0m\u001b[0;34m(\u001b[0m\u001b[0max\u001b[0m\u001b[0;34m,\u001b[0m \u001b[0;34m*\u001b[0m\u001b[0mmap\u001b[0m\u001b[0;34m(\u001b[0m\u001b[0msanitize_sequence\u001b[0m\u001b[0;34m,\u001b[0m \u001b[0margs\u001b[0m\u001b[0;34m)\u001b[0m\u001b[0;34m,\u001b[0m \u001b[0;34m**\u001b[0m\u001b[0mkwargs\u001b[0m\u001b[0;34m)\u001b[0m\u001b[0;34m\u001b[0m\u001b[0;34m\u001b[0m\u001b[0m\n\u001b[0m\u001b[1;32m   1439\u001b[0m \u001b[0;34m\u001b[0m\u001b[0m\n\u001b[1;32m   1440\u001b[0m         \u001b[0mbound\u001b[0m \u001b[0;34m=\u001b[0m \u001b[0mnew_sig\u001b[0m\u001b[0;34m.\u001b[0m\u001b[0mbind\u001b[0m\u001b[0;34m(\u001b[0m\u001b[0max\u001b[0m\u001b[0;34m,\u001b[0m \u001b[0;34m*\u001b[0m\u001b[0margs\u001b[0m\u001b[0;34m,\u001b[0m \u001b[0;34m**\u001b[0m\u001b[0mkwargs\u001b[0m\u001b[0;34m)\u001b[0m\u001b[0;34m\u001b[0m\u001b[0;34m\u001b[0m\u001b[0m\n",
      "\u001b[0;32m~/anaconda3/lib/python3.8/site-packages/matplotlib/axes/_axes.py\u001b[0m in \u001b[0;36mpcolormesh\u001b[0;34m(self, alpha, norm, cmap, vmin, vmax, shading, antialiased, *args, **kwargs)\u001b[0m\n\u001b[1;32m   6091\u001b[0m         \u001b[0mkwargs\u001b[0m\u001b[0;34m.\u001b[0m\u001b[0msetdefault\u001b[0m\u001b[0;34m(\u001b[0m\u001b[0;34m'edgecolors'\u001b[0m\u001b[0;34m,\u001b[0m \u001b[0;34m'None'\u001b[0m\u001b[0;34m)\u001b[0m\u001b[0;34m\u001b[0m\u001b[0;34m\u001b[0m\u001b[0m\n\u001b[1;32m   6092\u001b[0m \u001b[0;34m\u001b[0m\u001b[0m\n\u001b[0;32m-> 6093\u001b[0;31m         X, Y, C, shading = self._pcolorargs('pcolormesh', *args,\n\u001b[0m\u001b[1;32m   6094\u001b[0m                                             shading=shading)\n\u001b[1;32m   6095\u001b[0m         \u001b[0mNy\u001b[0m\u001b[0;34m,\u001b[0m \u001b[0mNx\u001b[0m \u001b[0;34m=\u001b[0m \u001b[0mX\u001b[0m\u001b[0;34m.\u001b[0m\u001b[0mshape\u001b[0m\u001b[0;34m\u001b[0m\u001b[0;34m\u001b[0m\u001b[0m\n",
      "\u001b[0;32m~/anaconda3/lib/python3.8/site-packages/matplotlib/axes/_axes.py\u001b[0m in \u001b[0;36m_pcolorargs\u001b[0;34m(funcname, shading, *args)\u001b[0m\n\u001b[1;32m   5582\u001b[0m             \u001b[0mnrows\u001b[0m\u001b[0;34m,\u001b[0m \u001b[0mncols\u001b[0m \u001b[0;34m=\u001b[0m \u001b[0mC\u001b[0m\u001b[0;34m.\u001b[0m\u001b[0mshape\u001b[0m\u001b[0;34m\u001b[0m\u001b[0;34m\u001b[0m\u001b[0m\n\u001b[1;32m   5583\u001b[0m         \u001b[0;32melse\u001b[0m\u001b[0;34m:\u001b[0m\u001b[0;34m\u001b[0m\u001b[0;34m\u001b[0m\u001b[0m\n\u001b[0;32m-> 5584\u001b[0;31m             raise TypeError(f'{funcname}() takes 1 or 3 positional arguments '\n\u001b[0m\u001b[1;32m   5585\u001b[0m                             f'but {len(args)} were given')\n\u001b[1;32m   5586\u001b[0m \u001b[0;34m\u001b[0m\u001b[0m\n",
      "\u001b[0;31mTypeError\u001b[0m: pcolormesh() takes 1 or 3 positional arguments but 2 were given"
     ]
    },
    {
     "data": {
      "image/png": "[encoded data removed]",
      "text/plain": [
       "<Figure size 432x288 with 1 Axes>"
      ]
     },
     "metadata": {
      "needs_background": "light"
     },
     "output_type": "display_data"
    }
   ],
   "source": [
    "np.random.seed(19680801)\n",
    "Z = np.random.rand(6, 10)\n",
    "x = np.arange(-0.5, 10, 1)  # len = 11\n",
    "y = np.arange(4.5, 11, 1)  # len = 7\n",
    "\n",
    "fig, ax = plt.subplots()\n",
    "pcm=ax.pcolormesh([indiv, P_m,], indiv)\n",
    "fig.colorbar(pcm,ax=ax)"
   ]
  },
  {
   "cell_type": "code",
   "execution_count": null,
   "metadata": {},
   "outputs": [],
   "source": []
  }
 ],
 "metadata": {
  "kernelspec": {
   "display_name": "Python 3",
   "language": "python",
   "name": "python3"
  },
  "language_info": {
   "codemirror_mode": {
    "name": "ipython",
    "version": 3
   },
   "file_extension": ".py",
   "mimetype": "text/x-python",
   "name": "python",
   "nbconvert_exporter": "python",
   "pygments_lexer": "ipython3",
   "version": "3.8.5"
  }
 },
 "nbformat": 4,
 "nbformat_minor": 4
}
